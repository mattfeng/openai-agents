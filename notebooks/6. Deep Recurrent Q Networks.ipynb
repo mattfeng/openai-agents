{
 "cells": [
  {
   "cell_type": "code",
   "execution_count": 1,
   "metadata": {},
   "outputs": [
    {
     "name": "stderr",
     "output_type": "stream",
     "text": [
      "/Users/mattfeng/envs/deep/lib/python3.6/site-packages/h5py/__init__.py:36: FutureWarning: Conversion of the second argument of issubdtype from `float` to `np.floating` is deprecated. In future, it will be treated as `np.float64 == np.dtype(float).type`.\n",
      "  from ._conv import register_converters as _register_converters\n"
     ]
    },
    {
     "name": "stdout",
     "output_type": "stream",
     "text": [
      "WARNING:tensorflow:From /Users/mattfeng/envs/deep/lib/python3.6/site-packages/tensorflow/contrib/learn/python/learn/datasets/base.py:198: retry (from tensorflow.contrib.learn.python.learn.datasets.base) is deprecated and will be removed in a future version.\n",
      "Instructions for updating:\n",
      "Use the retry module or similar alternatives.\n"
     ]
    }
   ],
   "source": [
    "import numpy as np\n",
    "import random\n",
    "import tensorflow as tf\n",
    "import matplotlib.pyplot as plt\n",
    "import scipy.misc\n",
    "import os\n",
    "import csv\n",
    "import itertools\n",
    "import tensorflow.contrib.slim as slim\n",
    "import time\n",
    "from IPython import display\n",
    "%matplotlib inline\n",
    "\n",
    "from helper import *"
   ]
  },
  {
   "cell_type": "code",
   "execution_count": 2,
   "metadata": {},
   "outputs": [],
   "source": [
    "from gridworld import gameEnv as game_env"
   ]
  },
  {
   "cell_type": "code",
   "execution_count": 3,
   "metadata": {},
   "outputs": [
    {
     "data": {
      "image/png": "[encoded data removed]",
      "text/plain": [
       "<Figure size 432x288 with 1 Axes>"
      ]
     },
     "metadata": {},
     "output_type": "display_data"
    }
   ],
   "source": [
    "env = game_env(partial=True, size=9)"
   ]
  },
  {
   "cell_type": "code",
   "execution_count": 4,
   "metadata": {},
   "outputs": [],
   "source": [
    "class QNetwork(object):\n",
    "    def __init__(self, h_size, rnn_cell, scope, lr):\n",
    "        # Receive frames from the game, flattened as an array,\n",
    "        # then resize and process it through four convolutional layers.\n",
    "        # Note that scalar_input can take in more than one frame at a time.\n",
    "        self.scalar_input = tf.placeholder(shape=[None, 84 * 84 * 3], dtype=tf.float32)\n",
    "        self.image_in = tf.reshape(self.scalar_input, shape=[-1, 84, 84, 3])\n",
    "        self.conv1 = slim.convolution2d(\n",
    "            inputs=self.image_in, num_outputs=32,\n",
    "            kernel_size=[8, 8], stride=[4, 4], padding='VALID',\n",
    "            biases_initializer=None, scope=\"{}_conv1\".format(scope)\n",
    "        )\n",
    "        self.conv2 = slim.convolution2d(\n",
    "            inputs=self.conv1, num_outputs=64,\n",
    "            kernel_size=[4, 4], stride=[2, 2], padding='VALID',\n",
    "            biases_initializer=None, scope=\"{}_conv2\".format(scope)\n",
    "        )\n",
    "        self.conv3 = slim.convolution2d(\n",
    "            inputs=self.conv2, num_outputs=64,\n",
    "            kernel_size=[3, 3], stride=[1, 1], padding='VALID',\n",
    "            biases_initializer=None, scope=\"{}_conv3\".format(scope)\n",
    "        )\n",
    "        self.conv4 = slim.convolution2d(\n",
    "            inputs=self.conv3, num_outputs=h_size,\n",
    "            kernel_size=[7, 7], stride=[1, 1], padding='VALID',\n",
    "            biases_initializer=None, scope=\"{}_conv4\".format(scope)\n",
    "        )\n",
    "        \n",
    "        self.train_length = tf.placeholder(dtype=tf.int32)\n",
    "        # Take the output from the conv4 and send it to a recurrent layer.\n",
    "        # Input must be reshaped into [batch x trace x units] for RNN processing\n",
    "        # and then returned to [batch x units] when sent through the upper levels.\n",
    "        self.batch_size = tf.placeholder(dtype=tf.int32, shape=[])\n",
    "        self.conv_flat = tf.reshape(slim.flatten(self.conv4),\n",
    "                                   [self.batch_size, self.train_length, h_size])\n",
    "        self.state_in = rnn_cell.zero_state(self.batch_size, dtype=tf.float32)\n",
    "        self.rnn, self.rnn_state = tf.nn.dynamic_rnn(\n",
    "            inputs=self.conv_flat, cell=rnn_cell, dtype=tf.float32,\n",
    "            initial_state=self.state_in, scope=\"{}_rnn\".format(scope)\n",
    "        )\n",
    "        self.rnn = tf.reshape(self.rnn, shape=[-1, h_size])\n",
    "        # The output from the recurrent layer is then split into\n",
    "        # separate Value and Advantage streams\n",
    "        self.stream_A, self.stream_V = tf.split(self.rnn, 2, axis=1)\n",
    "        self.AW = tf.Variable(tf.random_normal([h_size // 2, 4]))\n",
    "        self.VW = tf.Variable(tf.random_normal([h_size // 2, 1]))\n",
    "        self.Advantage = tf.matmul(self.stream_A, self.AW)\n",
    "        self.Value = tf.matmul(self.stream_V, self.VW)\n",
    "        \n",
    "        self.salience = tf.gradients(self.Advantage, self.image_in)\n",
    "        \n",
    "        # Combine the Value and Advantage streams to get final Q-values.\n",
    "        self.Advantage_μ = tf.reduce_mean(self.Advantage, axis=1, keep_dims=True)\n",
    "        self.Qout = self.Value + tf.subtract(self.Advantage, self.Advantage_μ)\n",
    "        self.predict = tf.argmax(self.Qout, axis=1)\n",
    "        \n",
    "        # Obtain the loss by taking the sum of squares difference between\n",
    "        # the target and prediction Q values\n",
    "        self.targetQ = tf.placeholder(shape=[None], dtype=tf.float32)\n",
    "        self.actions = tf.placeholder(shape=[None], dtype=tf.int32)\n",
    "        self.actions_1h = tf.one_hot(self.actions, 4, dtype=tf.float32)\n",
    "        \n",
    "        # Computes the Q value predicted for the action that was actually taken.\n",
    "        self.Q = tf.reduce_sum(tf.multiply(self.Qout, self.actions_1h), axis=1)\n",
    "        self.td_error = tf.square(self.targetQ - self.Q)\n",
    "        \n",
    "        # In order to only propogate accurate gradients through the network, we\n",
    "        # will mask the first half of the losses for each trace as per\n",
    "        # Lample and Chaplot, 2016.\n",
    "        self.maskA = tf.zeros([self.batch_size, self.train_length // 2])\n",
    "        self.maskB = tf.ones([self.batch_size, self.train_length // 2])\n",
    "        self.mask = tf.concat([self.maskA, self.maskB], axis=1)\n",
    "        self.mask = tf.reshape(self.mask, [-1])\n",
    "        self.loss = tf.reduce_mean(self.td_error * self.mask)\n",
    "        \n",
    "        self.trainer = tf.train.AdamOptimizer(learning_rate=lr)\n",
    "        self.update = self.trainer.minimize(self.loss)\n",
    "        "
   ]
  },
  {
   "cell_type": "markdown",
   "metadata": {
    "deletable": false,
    "editable": false,
    "run_control": {
     "frozen": true
    }
   },
   "source": [
    "## Experience Replay"
   ]
  },
  {
   "cell_type": "code",
   "execution_count": 5,
   "metadata": {},
   "outputs": [],
   "source": [
    "class ExperienceBuffer():\n",
    "    def __init__(self, buffer_size=1000):\n",
    "        # Buffer contains a list of episodes, where each episode is a\n",
    "        # list of 5-tuples (s, a, r, s1, d)\n",
    "        self.buffer = []\n",
    "        self.buffer_size = buffer_size\n",
    "    \n",
    "    def add(self, experience):\n",
    "        if len(self.buffer) + 1 >= self.buffer_size:\n",
    "            self.buffer[0:(1 + len(self.buffer)) - self.buffer_size] = []\n",
    "        self.buffer.append(experience)\n",
    "    \n",
    "    def sample(self, batch_size, trace_length):\n",
    "        sampled_episodes = random.sample(self.buffer, batch_size)\n",
    "        sampled_traces = []\n",
    "        for episode in sampled_episodes:\n",
    "            point = np.random.randint(0, len(episode) + 1 - trace_length)\n",
    "            sampled_traces.append(episode[point:point + trace_length])\n",
    "        sampled_traces = np.array(sampled_traces)\n",
    "        return np.reshape(sampled_traces, [batch_size * trace_length, 5])"
   ]
  },
  {
   "cell_type": "markdown",
   "metadata": {
    "deletable": false,
    "editable": false,
    "run_control": {
     "frozen": true
    }
   },
   "source": [
    "## Hyperparameters"
   ]
  },
  {
   "cell_type": "code",
   "execution_count": 6,
   "metadata": {},
   "outputs": [],
   "source": [
    "path = \"./drqn\"\n",
    "h_size = 512\n",
    "lr = 0.001"
   ]
  },
  {
   "cell_type": "markdown",
   "metadata": {
    "deletable": false,
    "editable": false,
    "run_control": {
     "frozen": true
    }
   },
   "source": [
    "## Run and Visualize the Model"
   ]
  },
  {
   "cell_type": "code",
   "execution_count": 7,
   "metadata": {},
   "outputs": [
    {
     "data": {
      "image/png": "[encoded data removed]",
      "text/plain": [
       "<Figure size 432x288 with 2 Axes>"
      ]
     },
     "metadata": {},
     "output_type": "display_data"
    },
    {
     "ename": "KeyboardInterrupt",
     "evalue": "",
     "output_type": "error",
     "traceback": [
      "\u001b[0;31m---------------------------------------------------------------------------\u001b[0m",
      "\u001b[0;31mKeyboardInterrupt\u001b[0m                         Traceback (most recent call last)",
      "\u001b[0;32m<ipython-input-7-a7da074caf0b>\u001b[0m in \u001b[0;36m<module>\u001b[0;34m()\u001b[0m\n\u001b[1;32m     56\u001b[0m             \u001b[0mstate\u001b[0m \u001b[0;34m=\u001b[0m \u001b[0mstate1\u001b[0m\u001b[0;34m\u001b[0m\u001b[0m\n\u001b[1;32m     57\u001b[0m \u001b[0;34m\u001b[0m\u001b[0m\n\u001b[0;32m---> 58\u001b[0;31m             \u001b[0mtime\u001b[0m\u001b[0;34m.\u001b[0m\u001b[0msleep\u001b[0m\u001b[0;34m(\u001b[0m\u001b[0;36m1\u001b[0m\u001b[0;34m)\u001b[0m\u001b[0;34m\u001b[0m\u001b[0m\n\u001b[0m\u001b[1;32m     59\u001b[0m \u001b[0;34m\u001b[0m\u001b[0m\n\u001b[1;32m     60\u001b[0m         \u001b[0mcont\u001b[0m \u001b[0;34m=\u001b[0m \u001b[0minput\u001b[0m\u001b[0;34m(\u001b[0m\u001b[0;34m\">> \"\u001b[0m\u001b[0;34m)\u001b[0m\u001b[0;34m\u001b[0m\u001b[0m\n",
      "\u001b[0;31mKeyboardInterrupt\u001b[0m: "
     ]
    },
    {
     "data": {
      "image/png": "[encoded data removed]",
      "text/plain": [
       "<Figure size 432x288 with 2 Axes>"
      ]
     },
     "metadata": {},
     "output_type": "display_data"
    }
   ],
   "source": [
    "tf.reset_default_graph()\n",
    "\n",
    "cell = tf.contrib.rnn.BasicLSTMCell(num_units=h_size, state_is_tuple=True)\n",
    "cellT = tf.contrib.rnn.BasicLSTMCell(num_units=h_size, state_is_tuple=True)\n",
    "mainQN = QNetwork(h_size, cell, \"main\", lr)\n",
    "targetQN = QNetwork(h_size, cellT, \"target\", lr)\n",
    "\n",
    "saver = tf.train.Saver(max_to_keep=5)\n",
    "\n",
    "with tf.Session() as sess:\n",
    "    print(\"[i] Loading model...\")\n",
    "    ckpt = tf.train.get_checkpoint_state(path)\n",
    "    saver.restore(sess, ckpt.model_checkpoint_path)\n",
    "    \n",
    "    while True:\n",
    "        ep_buffer = []\n",
    "        # Reset the environment and get first new observation\n",
    "        s = env.reset()\n",
    "        s = processState(s)\n",
    "        d = False\n",
    "        r_all = 0\n",
    "        j = 0\n",
    "        # Reset the recurrent layer's hidden state\n",
    "        state = (np.zeros([1, h_size]), np.zeros([1, h_size]))\n",
    "        \n",
    "        # The Q-Network\n",
    "        while not d:\n",
    "            j += 1\n",
    "            \n",
    "            plt.figure(3)\n",
    "            plt.clf()\n",
    "            plt.subplot(1, 2, 1)\n",
    "            plt.imshow(env.renderEnv(full=True))\n",
    "            plt.subplot(1, 2, 2)\n",
    "            plt.imshow(env.renderEnv())\n",
    "            \n",
    "            display.clear_output(wait=True)\n",
    "            display.display(plt.gcf())\n",
    "            \n",
    "            # Choose an action greedily from the Q-network\n",
    "            feed_dict = {\n",
    "                mainQN.scalar_input: [s / 255.0],\n",
    "                mainQN.train_length: 1,\n",
    "                mainQN.state_in: state,\n",
    "                mainQN.batch_size: 1\n",
    "            }\n",
    "            \n",
    "            a, state1 = sess.run([mainQN.predict, mainQN.rnn_state],\n",
    "                                 feed_dict=feed_dict)\n",
    "            a = a[0]\n",
    "            \n",
    "            # Get the next step in the game environment\n",
    "            s1, r, d = env.step(a)\n",
    "            s1 = processState(s1)\n",
    "            s = s1\n",
    "            state = state1\n",
    "            \n",
    "            time.sleep(1)\n",
    "            \n",
    "        cont = input(\">> \")\n",
    "        if cont == \"n\":\n",
    "            break\n",
    "        "
   ]
  },
  {
   "cell_type": "code",
   "execution_count": null,
   "metadata": {},
   "outputs": [],
   "source": []
  },
  {
   "cell_type": "code",
   "execution_count": null,
   "metadata": {},
   "outputs": [],
   "source": []
  }
 ],
 "metadata": {
  "kernelspec": {
   "display_name": "deep",
   "language": "python",
   "name": "deep"
  },
  "language_info": {
   "codemirror_mode": {
    "name": "ipython",
    "version": 3
   },
   "file_extension": ".py",
   "mimetype": "text/x-python",
   "name": "python",
   "nbconvert_exporter": "python",
   "pygments_lexer": "ipython3",
   "version": "3.6.3"
  },
  "varInspector": {
   "cols": {
    "lenName": 16,
    "lenType": 16,
    "lenVar": 40
   },
   "kernels_config": {
    "python": {
     "delete_cmd_postfix": "",
     "delete_cmd_prefix": "del ",
     "library": "var_list.py",
     "varRefreshCmd": "print(var_dic_list())"
    },
    "r": {
     "delete_cmd_postfix": ") ",
     "delete_cmd_prefix": "rm(",
     "library": "var_list.r",
     "varRefreshCmd": "cat(var_dic_list()) "
    }
   },
   "types_to_exclude": [
    "module",
    "function",
    "builtin_function_or_method",
    "instance",
    "_Feature"
   ],
   "window_display": false
  }
 },
 "nbformat": 4,
 "nbformat_minor": 2
}
